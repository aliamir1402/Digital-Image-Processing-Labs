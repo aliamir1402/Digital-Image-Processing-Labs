{
  "nbformat": 4,
  "nbformat_minor": 0,
  "metadata": {
    "colab": {
      "provenance": []
    },
    "kernelspec": {
      "name": "python3",
      "display_name": "Python 3"
    },
    "language_info": {
      "name": "python"
    }
  },
  "cells": [
    {
      "cell_type": "markdown",
      "source": [
        "Lab Task 1:\n",
        "Erode the image “fp.tif” using a suitable structural element so that all the noise is removed\n",
        "from the image. Apply erosion on Fig01.tif with structuring elements of different sizes.\n"
      ],
      "metadata": {
        "id": "aTEOwDDR9Rty"
      }
    },
    {
      "cell_type": "code",
      "execution_count": null,
      "metadata": {
        "id": "FJmyieje58fa"
      },
      "outputs": [],
      "source": [
        "#Libraries Used\n",
        "import cv2\n",
        "from PIL import Image, ImageChops\n",
        "import numpy as np\n",
        "from google.colab.patches import cv2_imshow\n",
        "\n",
        "#Reading Image File \n",
        "im=cv2.imread(\"/content/fp.tif\")\n",
        "#gray = cv2.cvtColor(image, cv2.COLOR_BGR2GRAY)\n",
        "cv2_imshow(im)"
      ]
    },
    {
      "cell_type": "code",
      "source": [
        "struct_element_rect5=cv2.getStructuringElement(cv2.MORPH_RECT,(5,5))\n",
        "struct_element_rect3=cv2.getStructuringElement(cv2.MORPH_RECT,(3,3))\n",
        "struct_element_rect7=cv2.getStructuringElement(cv2.MORPH_RECT,(7,7))\n",
        "\n",
        "\n",
        "#Different size elecment strcutures\n",
        "#Applying erosions\n",
        "erosion_im_rect3=cv2.erode(im,struct_element_rect3,iterations=1)\n",
        "erosion_im_rect5=cv2.erode(im,struct_element_rect5,iterations=1)\n",
        "erosion_im_rect7=cv2.erode(im,struct_element_rect7,iterations=1)\n"
      ],
      "metadata": {
        "id": "6wfUOvIg85GE"
      },
      "execution_count": null,
      "outputs": []
    },
    {
      "cell_type": "code",
      "source": [
        "cv2_imshow(erosion_im_rect3)"
      ],
      "metadata": {
        "id": "J4ix4v0PU34m"
      },
      "execution_count": null,
      "outputs": []
    },
    {
      "cell_type": "code",
      "source": [
        "cv2_imshow(erosion_im_rect5)"
      ],
      "metadata": {
        "id": "Z4G2x2g_DVas"
      },
      "execution_count": null,
      "outputs": []
    },
    {
      "cell_type": "code",
      "source": [
        "cv2_imshow(erosion_im_rect7)"
      ],
      "metadata": {
        "id": "g7Xpq14JDctL"
      },
      "execution_count": null,
      "outputs": []
    },
    {
      "cell_type": "markdown",
      "source": [
        "Lab Task 2:\n",
        "Dilate the image “broken_text.tif” such that the breakages in the characters/alphabets no\n",
        "longer exist. Apply dilation on Fig01.tif with structuring elements of different sizes."
      ],
      "metadata": {
        "id": "QbEcHVyMVAXt"
      }
    },
    {
      "cell_type": "code",
      "source": [
        "im=cv2.imread(\"/content/broken_text.tif\")\n",
        "cv2_imshow(im)"
      ],
      "metadata": {
        "id": "sDbFr1kiFL_1"
      },
      "execution_count": null,
      "outputs": []
    },
    {
      "cell_type": "code",
      "source": [
        "#Making Various Size Structuring Element\n",
        "struct_element_rect5=cv2.getStructuringElement(cv2.MORPH_RECT,(5,5))\n",
        "struct_element_rect3=cv2.getStructuringElement(cv2.MORPH_RECT,(3,3))\n",
        "struct_element_rect7=cv2.getStructuringElement(cv2.MORPH_RECT,(7,7))\n",
        "\n",
        "#Different size elecment strcutures\n",
        "#Applying Dilations\n",
        "dilate_im_rect3=cv2.dilate(im,struct_element_rect3,iterations=1)\n",
        "dilate_im_rect5=cv2.dilate(im,struct_element_rect5,iterations=1)\n",
        "dilate_im_rect7=cv2.dilate(im,struct_element_rect7,iterations=1)"
      ],
      "metadata": {
        "id": "g61xXRGWEHFF"
      },
      "execution_count": null,
      "outputs": []
    },
    {
      "cell_type": "code",
      "source": [
        "cv2_imshow(dilate_im_rect3)"
      ],
      "metadata": {
        "id": "WfQeug37UwOO"
      },
      "execution_count": null,
      "outputs": []
    },
    {
      "cell_type": "code",
      "source": [
        "cv2_imshow(dilate_im_rect5)"
      ],
      "metadata": {
        "id": "SlF7mdHSExhm"
      },
      "execution_count": null,
      "outputs": []
    },
    {
      "cell_type": "code",
      "source": [
        "cv2_imshow(dilate_im_rect7)"
      ],
      "metadata": {
        "colab": {
          "base_uri": "https://localhost:8080/",
          "height": 461
        },
        "id": "5_47KD3pEzIs",
        "outputId": "f2989484-d131-4b8a-cf94-539f598d972f"
      },
      "execution_count": null,
      "outputs": [
        {
          "output_type": "display_data",
          "data": {
            "text/plain": [
              "<PIL.Image.Image image mode=RGB size=508x444 at 0x7F7D39410E20>"
            ],
            "image/png": "[encoded data removed]"
          },
          "metadata": {}
        }
      ]
    },
    {
      "cell_type": "markdown",
      "source": [
        "Lab Task 3:\n",
        "Morphological operations can also be used to segment out objects from an image. Using\n",
        "opening and a suitable structuring element (disc, diamond and rectangle), segment out each\n",
        "object from the “Objects.png” image.\n"
      ],
      "metadata": {
        "id": "PEe7OaJ5VEyF"
      }
    },
    {
      "cell_type": "code",
      "source": [
        "im=cv2.imread(\"/content/Objects.png\")\n",
        "cv2_imshow(im)"
      ],
      "metadata": {
        "id": "XTfAYZtUItYS"
      },
      "execution_count": null,
      "outputs": []
    },
    {
      "cell_type": "code",
      "source": [
        "struct_element_recte=cv2.getStructuringElement(cv2.MORPH_RECT,(11,11))\n",
        "struct_element_rectd=cv2.getStructuringElement(cv2.MORPH_RECT,(65,65))\n",
        "\n",
        "struct_element_ellie=cv2.getStructuringElement(cv2.MORPH_ELLIPSE,(13,13))\n",
        "struct_element_ellid=cv2.getStructuringElement(cv2.MORPH_ELLIPSE,(45,45))\n",
        "\n",
        "struct_element_crosse=cv2.getStructuringElement(cv2.MORPH_CROSS,(9,9))\n",
        "struct_element_crossd=cv2.getStructuringElement(cv2.MORPH_CROSS,(3,3))\n",
        "\n",
        "#Different 5X5 elecment strcutures\n",
        "#Applying Erosions and Dilation (Rectangule)\n",
        "'''\n",
        "array([[1, 1, 1, 1, 1],\n",
        "       [1, 1, 1, 1, 1],\n",
        "       [1, 1, 1, 1, 1],\n",
        "       [1, 1, 1, 1, 1],\n",
        "       [1, 1, 1, 1, 1]]\n",
        "'''\n",
        "erosion_im_rect=cv2.erode(im,struct_element_recte,iterations=7)\n",
        "erosion_im_rect=cv2.dilate(erosion_im_rect,struct_element_rectd,iterations=1)\n",
        "\n",
        "#Applying Erosions and Dilation (Elliptical)\n",
        "'''\n",
        "array([[0, 0, 1, 0, 0],\n",
        "       [1, 1, 1, 1, 1],\n",
        "       [1, 1, 1, 1, 1],\n",
        "       [1, 1, 1, 1, 1],\n",
        "       [0, 0, 1, 0, 0]]\n",
        "'''\n",
        "\n",
        "erosion_im_elli=cv2.erode(im,struct_element_ellie,iterations=7)\n",
        "erosion_im_elli=cv2.dilate(erosion_im_elli,struct_element_ellid,iterations=2)\n",
        "\n",
        "#Applying Erosions and Dilation (Cross-shaped)\n",
        "'''\n",
        "array([[0, 0, 1, 0, 0],\n",
        "       [0, 0, 1, 0, 0],\n",
        "       [1, 1, 1, 1, 1],\n",
        "       [0, 0, 1, 0, 0],\n",
        "       [0, 0, 1, 0, 0]]\n",
        "'''\n",
        "erosion_im_cross=cv2.erode(im,struct_element_crosse,iterations=12)\n",
        "erosion_im_cross=cv2.dilate(erosion_im_cross,struct_element_crossd,iterations=50)\n"
      ],
      "metadata": {
        "id": "YYkFp3bHBdsV"
      },
      "execution_count": null,
      "outputs": []
    },
    {
      "cell_type": "code",
      "source": [
        "cv2_imshow(erosion_im_rect)"
      ],
      "metadata": {
        "id": "FDQ-CEVrBiLL",
        "colab": {
          "base_uri": "https://localhost:8080/",
          "height": 286
        },
        "outputId": "89d443cf-690f-4ff3-a2f4-6b9b308df308"
      },
      "execution_count": null,
      "outputs": [
        {
          "output_type": "display_data",
          "data": {
            "text/plain": [
              "<PIL.Image.Image image mode=RGB size=443x269 at 0x7F7D39485E20>"
            ],
            "image/png": "[encoded data removed]"
          },
          "metadata": {}
        }
      ]
    },
    {
      "cell_type": "code",
      "source": [
        "cv2_imshow(erosion_im_elli)"
      ],
      "metadata": {
        "colab": {
          "base_uri": "https://localhost:8080/",
          "height": 286
        },
        "id": "HHmKwXZfIk2p",
        "outputId": "f27f793a-ad4e-430d-edd5-07d6fa089f55"
      },
      "execution_count": null,
      "outputs": [
        {
          "output_type": "display_data",
          "data": {
            "text/plain": [
              "<PIL.Image.Image image mode=RGB size=443x269 at 0x7F7D39446250>"
            ],
            "image/png": "[encoded data removed]"
          },
          "metadata": {}
        }
      ]
    },
    {
      "cell_type": "code",
      "source": [
        "cv2_imshow(erosion_im_cross)"
      ],
      "metadata": {
        "colab": {
          "base_uri": "https://localhost:8080/",
          "height": 286
        },
        "id": "AECwJUx8Il04",
        "outputId": "3ca18cbc-3446-410d-a505-fc692f552ecc"
      },
      "execution_count": null,
      "outputs": [
        {
          "output_type": "display_data",
          "data": {
            "text/plain": [
              "<PIL.Image.Image image mode=RGB size=443x269 at 0x7F7D393A3C10>"
            ],
            "image/png": "[encoded data removed]"
          },
          "metadata": {}
        }
      ]
    }
  ]
}