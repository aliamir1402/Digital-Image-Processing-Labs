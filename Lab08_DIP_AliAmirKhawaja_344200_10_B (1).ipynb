{
  "nbformat": 4,
  "nbformat_minor": 0,
  "metadata": {
    "colab": {
      "provenance": []
    },
    "kernelspec": {
      "name": "python3",
      "display_name": "Python 3"
    },
    "language_info": {
      "name": "python"
    }
  },
  "cells": [
    {
      "cell_type": "code",
      "execution_count": null,
      "metadata": {
        "colab": {
          "base_uri": "https://localhost:8080/"
        },
        "id": "HzF5L4RLz3GP",
        "outputId": "296cabc6-3606-4fd0-e322-9b787e13703e"
      },
      "outputs": [
        {
          "output_type": "stream",
          "name": "stdout",
          "text": [
            "Resolution: (486, 732)\n"
          ]
        }
      ],
      "source": [
        "import cv2\n",
        "from PIL import Image\n",
        "import numpy as np\n",
        "import skimage.util as sk \n",
        "import skimage \n",
        "from scipy import ndimage\n",
        "from skimage import filters\n",
        "from google.colab.patches import cv2_imshow\n",
        "from skimage.morphology import disk, ball\n",
        "from skimage.filters.rank.generic import geometric_mean\n",
        "\n",
        "#Task 1\n",
        "im = cv2.imread(\"/content/pears.png\")\n",
        "im = cv2.cvtColor(im, cv2.COLOR_BGR2GRAY)\n",
        "\n",
        "resolution = im.shape\n",
        "print(\"Resolution:\",resolution)\n",
        "\n",
        "#Adding Different Types of Noise to Image\n",
        "guassian_noise=sk.random_noise(im,\"gaussian\")\n",
        "poisson_noise=sk.random_noise(im,\"poisson\")\n",
        "salt_pepper=sk.random_noise(im,\"s&p\")\n",
        "speckle=sk.random_noise(im,\"speckle\")\n",
        "salt_image=sk.random_noise(im,\"salt\")\n",
        "pepper_image=sk.random_noise(im,\"pepper\")\n",
        "\n",
        "#Converting Image to Greyscale 8-Bit Intensities\n",
        "for x in range(0,resolution[0]-1):\n",
        "  for y in range(0,resolution[1]-1):\n",
        "    guassian_noise[x][y]=guassian_noise[x][y]*255\n",
        "    poisson_noise[x][y]=poisson_noise[x][y]*255\n",
        "    salt_pepper[x][y]=salt_pepper[x][y]*255\n",
        "    speckle[x][y]=speckle[x][y]*255\n",
        "    salt_image[x][y]=salt_image[x][y]*255\n",
        "    pepper_image[x][y]=pepper_image[x][y]*255"
      ]
    },
    {
      "cell_type": "code",
      "source": [
        "#showing image\n",
        "cv2.imwrite(\"gn.png\",guassian_noise)\n",
        "cv2.imwrite(\"pn.png\",poisson_noise)\n",
        "cv2.imwrite(\"sp.png\",salt_pepper)\n",
        "cv2.imwrite(\"s.png\",speckle)\n",
        "cv2.imwrite(\"si.png\",salt_image)\n",
        "cv2.imwrite(\"pi.png\",pepper_image)"
      ],
      "metadata": {
        "colab": {
          "base_uri": "https://localhost:8080/"
        },
        "id": "9VeFYXCkJsKQ",
        "outputId": "301e26ba-e28e-418b-a937-2e46833dd5a3"
      },
      "execution_count": null,
      "outputs": [
        {
          "output_type": "execute_result",
          "data": {
            "text/plain": [
              "True"
            ]
          },
          "metadata": {},
          "execution_count": 2
        }
      ]
    },
    {
      "cell_type": "code",
      "source": [
        "#Arithmetic Mean\n",
        "im = Image.open(\"/content/pi.png\")\n",
        "n=3\n",
        "filter = np.ones((n,n))\n",
        "\n",
        "im=np.array(im)\n",
        "for x in range(0,n):\n",
        "  for y in range(0,n):\n",
        "    filter[x][y]=(filter[x][y])/(n*n)\n",
        "\n",
        "im = cv2.filter2D(src=im, ddepth=0, kernel=filter)\n",
        "im=Image.fromarray(im)\n",
        "im"
      ],
      "metadata": {
        "id": "wakn2VxxzRM-"
      },
      "execution_count": null,
      "outputs": []
    },
    {
      "cell_type": "code",
      "source": [
        "#Min Filter\n",
        "im = Image.open(\"/content/pi.png\")\n",
        "im=np.array(im)\n",
        "\n",
        "im=ndimage.minimum_filter(im,3)\n",
        "im=Image.fromarray(im)\n",
        "im"
      ],
      "metadata": {
        "id": "VhpIHWeSejy8"
      },
      "execution_count": null,
      "outputs": []
    },
    {
      "cell_type": "code",
      "source": [
        "#Max Filter\n",
        "im = Image.open(\"/content/pi.png\")\n",
        "im=np.array(im)\n",
        "\n",
        "im=ndimage.maximum_filter(im,3)\n",
        "im=Image.fromarray(im)\n",
        "im"
      ],
      "metadata": {
        "id": "N_IIiqZAgc6y"
      },
      "execution_count": null,
      "outputs": []
    },
    {
      "cell_type": "code",
      "source": [
        "#Median Filter\n",
        "im = Image.open(\"/content/pi.png\")\n",
        "\n",
        "im=np.array(im)\n",
        "im=ndimage.median_filter(im,3)\n",
        "im=Image.fromarray(im)\n",
        "im"
      ],
      "metadata": {
        "id": "yhxvsKDHg6kH"
      },
      "execution_count": null,
      "outputs": []
    },
    {
      "cell_type": "code",
      "source": [
        "#Geometric mean\n",
        "im=Image.open(\"/content/pi.png\")\n",
        "im=np.array(im)\n",
        "\n",
        "im=geometric_mean(im,disk(3))\n",
        "im=Image.fromarray(im)\n",
        "im"
      ],
      "metadata": {
        "id": "kBcE8bPxsKYY"
      },
      "execution_count": null,
      "outputs": []
    },
    {
      "cell_type": "code",
      "source": [
        "#Harmonic Mean \n",
        "import statistics as st\n",
        "im=Image.open(\"/content/pi.png\")\n",
        "im=np.array(im)\n",
        "\n",
        "#Resolution: (732, 486)\n",
        "#Resolution: (734, 488)\n",
        "#Adding 2 Rows and 2 Coloumns\n",
        "im=np.concatenate([[im[0]],im],axis=0)\n",
        "im=np.concatenate([im,[im[resolution[0]-1]]],axis=0)\n",
        "im=np.transpose(im)\n",
        "im=np.concatenate([[im[0]],im],axis=0)\n",
        "im=np.concatenate([im,[im[resolution[0]-1]]],axis=0)\n",
        "im=np.transpose(im)\n",
        "\n",
        "for x in range(0,resolution[0]+1):\n",
        "  for y in range(0,resolution[1]+1):\n",
        "    if im[x][y]==0:\n",
        "      im[x][y]=1\n",
        "  \n",
        "temp = [0]*9 #temp value causing some effect\n",
        "\n",
        "for x in range(0,resolution[0]-1):\n",
        "  for y in range(0,resolution[1]-1):\n",
        "    temp[0]=(im[x][y])\n",
        "    temp[1]=(im[x][y-1])\n",
        "    temp[2]=(im[x][y+1])\n",
        "    temp[3]=(im[x-1][y])\n",
        "    temp[4]=(im[x-1][y-1])\n",
        "    temp[5]=(im[x-1][y+1])\n",
        "    temp[6]=(im[x+1][y])\n",
        "    temp[7]=(im[x+1][y-1])\n",
        "    temp[8]=(im[x+1][y+1])\n",
        "    im[x][y]=st.harmonic_mean(temp)\n",
        "\n",
        "im=Image.fromarray(im)\n",
        "im\n"
      ],
      "metadata": {
        "id": "n0ugC8UWwH6u"
      },
      "execution_count": null,
      "outputs": []
    },
    {
      "cell_type": "code",
      "source": [
        "#Contra-Harmonic Mean \n",
        "import statistics as st\n",
        "im=Image.open(\"/content/pi.png\")\n",
        "im=np.array(im)\n",
        "\n",
        "#Resolution: (732, 486)\n",
        "#Resolution: (734, 488)\n",
        "#Adding 2 Rows and 2 Coloumns\n",
        "im=np.concatenate([[im[0]],im],axis=0)\n",
        "im=np.concatenate([im,[im[resolution[0]-1]]],axis=0)\n",
        "im=np.transpose(im)\n",
        "im=np.concatenate([[im[0]],im],axis=0)\n",
        "im=np.concatenate([im,[im[resolution[0]-1]]],axis=0)\n",
        "im=np.transpose(im)\n",
        "\n",
        "temp = [0]*9\n",
        "sum_square=0\n",
        "sum=0\n",
        "\n",
        "Q=5 #Greater than 0 is better for pepper \n",
        "#,and less 0 is better for salt noise.\n",
        "\n",
        "for x in range(0,resolution[0]+1):\n",
        "  for y in range(0,resolution[1]+1):\n",
        "    temp[0]=(im[x][y])\n",
        "    temp[1]=(im[x][y-1])\n",
        "    temp[2]=(im[x][y+1])\n",
        "    temp[3]=(im[x-1][y])\n",
        "    temp[4]=(im[x-1][y-1])\n",
        "    temp[5]=(im[x-1][y+1])\n",
        "    temp[6]=(im[x+1][y])\n",
        "    temp[7]=(im[x+1][y-1])\n",
        "    temp[8]=(im[x+1][y+1])\n",
        "    for i in range(0,9):\n",
        "      sum_square=sum_square+pow(temp[i],Q+1)\n",
        "      sum=sum+pow(temp[i],Q)\n",
        "    print(sum_square,sum)\n",
        "    im[x][y]=sum_square/sum\n",
        "\n",
        "im=Image.fromarray(im)\n",
        "im\n"
      ],
      "metadata": {
        "id": "Q1wgFPkqKR9f"
      },
      "execution_count": null,
      "outputs": []
    }
  ]
}